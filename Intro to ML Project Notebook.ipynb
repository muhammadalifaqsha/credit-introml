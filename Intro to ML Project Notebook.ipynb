{
 "cells": [
  {
   "cell_type": "markdown",
   "metadata": {},
   "source": [
    "# Modelling"
   ]
  },
  {
   "cell_type": "code",
   "execution_count": 1,
   "metadata": {},
   "outputs": [
    {
     "name": "stderr",
     "output_type": "stream",
     "text": [
      "C:\\Users\\muham\\AppData\\Roaming\\Python\\Python38\\site-packages\\pandas\\core\\computation\\expressions.py:20: UserWarning: Pandas requires version '2.7.3' or newer of 'numexpr' (version '2.7.1' currently installed).\n",
      "  from pandas.core.computation.check import NUMEXPR_INSTALLED\n"
     ]
    }
   ],
   "source": [
    "import numpy as np\n",
    "import pandas as pd\n",
    "import matplotlib.pyplot as plt\n",
    "import seaborn as sns\n",
    "from scipy import stats"
   ]
  },
  {
   "cell_type": "markdown",
   "metadata": {},
   "source": [
    "# 0. Importing data"
   ]
  },
  {
   "cell_type": "markdown",
   "metadata": {},
   "source": [
    "Data source: https://www.kaggle.com/competitions/GiveMeSomeCredit"
   ]
  },
  {
   "cell_type": "code",
   "execution_count": 2,
   "metadata": {},
   "outputs": [
    {
     "data": {
      "text/html": [
       "<div>\n",
       "<style scoped>\n",
       "    .dataframe tbody tr th:only-of-type {\n",
       "        vertical-align: middle;\n",
       "    }\n",
       "\n",
       "    .dataframe tbody tr th {\n",
       "        vertical-align: top;\n",
       "    }\n",
       "\n",
       "    .dataframe thead th {\n",
       "        text-align: right;\n",
       "    }\n",
       "</style>\n",
       "<table border=\"1\" class=\"dataframe\">\n",
       "  <thead>\n",
       "    <tr style=\"text-align: right;\">\n",
       "      <th></th>\n",
       "      <th>Unnamed: 0</th>\n",
       "      <th>SeriousDlqin2yrs</th>\n",
       "      <th>RevolvingUtilizationOfUnsecuredLines</th>\n",
       "      <th>age</th>\n",
       "      <th>NumberOfTime30-59DaysPastDueNotWorse</th>\n",
       "      <th>DebtRatio</th>\n",
       "      <th>MonthlyIncome</th>\n",
       "      <th>NumberOfOpenCreditLinesAndLoans</th>\n",
       "      <th>NumberOfTimes90DaysLate</th>\n",
       "      <th>NumberRealEstateLoansOrLines</th>\n",
       "      <th>NumberOfTime60-89DaysPastDueNotWorse</th>\n",
       "      <th>NumberOfDependents</th>\n",
       "    </tr>\n",
       "  </thead>\n",
       "  <tbody>\n",
       "    <tr>\n",
       "      <th>0</th>\n",
       "      <td>1</td>\n",
       "      <td>1</td>\n",
       "      <td>0.766127</td>\n",
       "      <td>45</td>\n",
       "      <td>2</td>\n",
       "      <td>0.802982</td>\n",
       "      <td>9120.0</td>\n",
       "      <td>13</td>\n",
       "      <td>0</td>\n",
       "      <td>6</td>\n",
       "      <td>0</td>\n",
       "      <td>2.0</td>\n",
       "    </tr>\n",
       "    <tr>\n",
       "      <th>1</th>\n",
       "      <td>2</td>\n",
       "      <td>0</td>\n",
       "      <td>0.957151</td>\n",
       "      <td>40</td>\n",
       "      <td>0</td>\n",
       "      <td>0.121876</td>\n",
       "      <td>2600.0</td>\n",
       "      <td>4</td>\n",
       "      <td>0</td>\n",
       "      <td>0</td>\n",
       "      <td>0</td>\n",
       "      <td>1.0</td>\n",
       "    </tr>\n",
       "    <tr>\n",
       "      <th>2</th>\n",
       "      <td>3</td>\n",
       "      <td>0</td>\n",
       "      <td>0.658180</td>\n",
       "      <td>38</td>\n",
       "      <td>1</td>\n",
       "      <td>0.085113</td>\n",
       "      <td>3042.0</td>\n",
       "      <td>2</td>\n",
       "      <td>1</td>\n",
       "      <td>0</td>\n",
       "      <td>0</td>\n",
       "      <td>0.0</td>\n",
       "    </tr>\n",
       "    <tr>\n",
       "      <th>3</th>\n",
       "      <td>4</td>\n",
       "      <td>0</td>\n",
       "      <td>0.233810</td>\n",
       "      <td>30</td>\n",
       "      <td>0</td>\n",
       "      <td>0.036050</td>\n",
       "      <td>3300.0</td>\n",
       "      <td>5</td>\n",
       "      <td>0</td>\n",
       "      <td>0</td>\n",
       "      <td>0</td>\n",
       "      <td>0.0</td>\n",
       "    </tr>\n",
       "    <tr>\n",
       "      <th>4</th>\n",
       "      <td>5</td>\n",
       "      <td>0</td>\n",
       "      <td>0.907239</td>\n",
       "      <td>49</td>\n",
       "      <td>1</td>\n",
       "      <td>0.024926</td>\n",
       "      <td>63588.0</td>\n",
       "      <td>7</td>\n",
       "      <td>0</td>\n",
       "      <td>1</td>\n",
       "      <td>0</td>\n",
       "      <td>0.0</td>\n",
       "    </tr>\n",
       "  </tbody>\n",
       "</table>\n",
       "</div>"
      ],
      "text/plain": [
       "   Unnamed: 0  SeriousDlqin2yrs  RevolvingUtilizationOfUnsecuredLines  age  \\\n",
       "0           1                 1                              0.766127   45   \n",
       "1           2                 0                              0.957151   40   \n",
       "2           3                 0                              0.658180   38   \n",
       "3           4                 0                              0.233810   30   \n",
       "4           5                 0                              0.907239   49   \n",
       "\n",
       "   NumberOfTime30-59DaysPastDueNotWorse  DebtRatio  MonthlyIncome  \\\n",
       "0                                     2   0.802982         9120.0   \n",
       "1                                     0   0.121876         2600.0   \n",
       "2                                     1   0.085113         3042.0   \n",
       "3                                     0   0.036050         3300.0   \n",
       "4                                     1   0.024926        63588.0   \n",
       "\n",
       "   NumberOfOpenCreditLinesAndLoans  NumberOfTimes90DaysLate  \\\n",
       "0                               13                        0   \n",
       "1                                4                        0   \n",
       "2                                2                        1   \n",
       "3                                5                        0   \n",
       "4                                7                        0   \n",
       "\n",
       "   NumberRealEstateLoansOrLines  NumberOfTime60-89DaysPastDueNotWorse  \\\n",
       "0                             6                                     0   \n",
       "1                             0                                     0   \n",
       "2                             0                                     0   \n",
       "3                             0                                     0   \n",
       "4                             1                                     0   \n",
       "\n",
       "   NumberOfDependents  \n",
       "0                 2.0  \n",
       "1                 1.0  \n",
       "2                 0.0  \n",
       "3                 0.0  \n",
       "4                 0.0  "
      ]
     },
     "execution_count": 2,
     "metadata": {},
     "output_type": "execute_result"
    }
   ],
   "source": [
    "credit_data = pd.read_csv(\"cs-training.csv\")\n",
    "credit_data.head()"
   ]
  },
  {
   "cell_type": "code",
   "execution_count": 3,
   "metadata": {},
   "outputs": [],
   "source": [
    "credit_data.drop(columns=['Unnamed: 0'], inplace=True)"
   ]
  },
  {
   "cell_type": "markdown",
   "metadata": {},
   "source": [
    "# 1. Data Preprocessing"
   ]
  },
  {
   "cell_type": "code",
   "execution_count": 4,
   "metadata": {},
   "outputs": [
    {
     "name": "stdout",
     "output_type": "stream",
     "text": [
      "<class 'pandas.core.frame.DataFrame'>\n",
      "RangeIndex: 150000 entries, 0 to 149999\n",
      "Data columns (total 11 columns):\n",
      " #   Column                                Non-Null Count   Dtype  \n",
      "---  ------                                --------------   -----  \n",
      " 0   SeriousDlqin2yrs                      150000 non-null  int64  \n",
      " 1   RevolvingUtilizationOfUnsecuredLines  150000 non-null  float64\n",
      " 2   age                                   150000 non-null  int64  \n",
      " 3   NumberOfTime30-59DaysPastDueNotWorse  150000 non-null  int64  \n",
      " 4   DebtRatio                             150000 non-null  float64\n",
      " 5   MonthlyIncome                         120269 non-null  float64\n",
      " 6   NumberOfOpenCreditLinesAndLoans       150000 non-null  int64  \n",
      " 7   NumberOfTimes90DaysLate               150000 non-null  int64  \n",
      " 8   NumberRealEstateLoansOrLines          150000 non-null  int64  \n",
      " 9   NumberOfTime60-89DaysPastDueNotWorse  150000 non-null  int64  \n",
      " 10  NumberOfDependents                    146076 non-null  float64\n",
      "dtypes: float64(4), int64(7)\n",
      "memory usage: 12.6 MB\n"
     ]
    }
   ],
   "source": [
    "credit_data.info()"
   ]
  },
  {
   "cell_type": "code",
   "execution_count": 5,
   "metadata": {},
   "outputs": [
    {
     "data": {
      "text/html": [
       "<div>\n",
       "<style scoped>\n",
       "    .dataframe tbody tr th:only-of-type {\n",
       "        vertical-align: middle;\n",
       "    }\n",
       "\n",
       "    .dataframe tbody tr th {\n",
       "        vertical-align: top;\n",
       "    }\n",
       "\n",
       "    .dataframe thead th {\n",
       "        text-align: right;\n",
       "    }\n",
       "</style>\n",
       "<table border=\"1\" class=\"dataframe\">\n",
       "  <thead>\n",
       "    <tr style=\"text-align: right;\">\n",
       "      <th></th>\n",
       "      <th>SeriousDlqin2yrs</th>\n",
       "      <th>RevolvingUtilizationOfUnsecuredLines</th>\n",
       "      <th>age</th>\n",
       "      <th>NumberOfTime30-59DaysPastDueNotWorse</th>\n",
       "      <th>DebtRatio</th>\n",
       "      <th>MonthlyIncome</th>\n",
       "      <th>NumberOfOpenCreditLinesAndLoans</th>\n",
       "      <th>NumberOfTimes90DaysLate</th>\n",
       "      <th>NumberRealEstateLoansOrLines</th>\n",
       "      <th>NumberOfTime60-89DaysPastDueNotWorse</th>\n",
       "      <th>NumberOfDependents</th>\n",
       "    </tr>\n",
       "  </thead>\n",
       "  <tbody>\n",
       "    <tr>\n",
       "      <th>52</th>\n",
       "      <td>0</td>\n",
       "      <td>1.0</td>\n",
       "      <td>62</td>\n",
       "      <td>0</td>\n",
       "      <td>0.0</td>\n",
       "      <td>NaN</td>\n",
       "      <td>1</td>\n",
       "      <td>0</td>\n",
       "      <td>0</td>\n",
       "      <td>0</td>\n",
       "      <td>0.0</td>\n",
       "    </tr>\n",
       "    <tr>\n",
       "      <th>331</th>\n",
       "      <td>0</td>\n",
       "      <td>1.0</td>\n",
       "      <td>29</td>\n",
       "      <td>0</td>\n",
       "      <td>0.0</td>\n",
       "      <td>NaN</td>\n",
       "      <td>0</td>\n",
       "      <td>0</td>\n",
       "      <td>0</td>\n",
       "      <td>0</td>\n",
       "      <td>0.0</td>\n",
       "    </tr>\n",
       "    <tr>\n",
       "      <th>530</th>\n",
       "      <td>0</td>\n",
       "      <td>0.0</td>\n",
       "      <td>82</td>\n",
       "      <td>0</td>\n",
       "      <td>0.0</td>\n",
       "      <td>NaN</td>\n",
       "      <td>3</td>\n",
       "      <td>0</td>\n",
       "      <td>0</td>\n",
       "      <td>0</td>\n",
       "      <td>0.0</td>\n",
       "    </tr>\n",
       "    <tr>\n",
       "      <th>1250</th>\n",
       "      <td>0</td>\n",
       "      <td>0.0</td>\n",
       "      <td>84</td>\n",
       "      <td>0</td>\n",
       "      <td>0.0</td>\n",
       "      <td>NaN</td>\n",
       "      <td>1</td>\n",
       "      <td>0</td>\n",
       "      <td>0</td>\n",
       "      <td>0</td>\n",
       "      <td>0.0</td>\n",
       "    </tr>\n",
       "    <tr>\n",
       "      <th>1669</th>\n",
       "      <td>0</td>\n",
       "      <td>1.0</td>\n",
       "      <td>29</td>\n",
       "      <td>0</td>\n",
       "      <td>0.0</td>\n",
       "      <td>NaN</td>\n",
       "      <td>0</td>\n",
       "      <td>0</td>\n",
       "      <td>0</td>\n",
       "      <td>0</td>\n",
       "      <td>0.0</td>\n",
       "    </tr>\n",
       "    <tr>\n",
       "      <th>...</th>\n",
       "      <td>...</td>\n",
       "      <td>...</td>\n",
       "      <td>...</td>\n",
       "      <td>...</td>\n",
       "      <td>...</td>\n",
       "      <td>...</td>\n",
       "      <td>...</td>\n",
       "      <td>...</td>\n",
       "      <td>...</td>\n",
       "      <td>...</td>\n",
       "      <td>...</td>\n",
       "    </tr>\n",
       "    <tr>\n",
       "      <th>149139</th>\n",
       "      <td>0</td>\n",
       "      <td>0.0</td>\n",
       "      <td>77</td>\n",
       "      <td>0</td>\n",
       "      <td>0.0</td>\n",
       "      <td>NaN</td>\n",
       "      <td>2</td>\n",
       "      <td>0</td>\n",
       "      <td>0</td>\n",
       "      <td>0</td>\n",
       "      <td>0.0</td>\n",
       "    </tr>\n",
       "    <tr>\n",
       "      <th>149431</th>\n",
       "      <td>0</td>\n",
       "      <td>1.0</td>\n",
       "      <td>25</td>\n",
       "      <td>0</td>\n",
       "      <td>0.0</td>\n",
       "      <td>NaN</td>\n",
       "      <td>1</td>\n",
       "      <td>0</td>\n",
       "      <td>0</td>\n",
       "      <td>0</td>\n",
       "      <td>NaN</td>\n",
       "    </tr>\n",
       "    <tr>\n",
       "      <th>149472</th>\n",
       "      <td>0</td>\n",
       "      <td>1.0</td>\n",
       "      <td>84</td>\n",
       "      <td>0</td>\n",
       "      <td>0.0</td>\n",
       "      <td>NaN</td>\n",
       "      <td>1</td>\n",
       "      <td>0</td>\n",
       "      <td>0</td>\n",
       "      <td>0</td>\n",
       "      <td>0.0</td>\n",
       "    </tr>\n",
       "    <tr>\n",
       "      <th>149769</th>\n",
       "      <td>0</td>\n",
       "      <td>1.0</td>\n",
       "      <td>23</td>\n",
       "      <td>98</td>\n",
       "      <td>0.0</td>\n",
       "      <td>NaN</td>\n",
       "      <td>0</td>\n",
       "      <td>98</td>\n",
       "      <td>0</td>\n",
       "      <td>98</td>\n",
       "      <td>NaN</td>\n",
       "    </tr>\n",
       "    <tr>\n",
       "      <th>149993</th>\n",
       "      <td>0</td>\n",
       "      <td>1.0</td>\n",
       "      <td>22</td>\n",
       "      <td>0</td>\n",
       "      <td>0.0</td>\n",
       "      <td>820.0</td>\n",
       "      <td>1</td>\n",
       "      <td>0</td>\n",
       "      <td>0</td>\n",
       "      <td>0</td>\n",
       "      <td>0.0</td>\n",
       "    </tr>\n",
       "  </tbody>\n",
       "</table>\n",
       "<p>960 rows × 11 columns</p>\n",
       "</div>"
      ],
      "text/plain": [
       "        SeriousDlqin2yrs  RevolvingUtilizationOfUnsecuredLines  age  \\\n",
       "52                     0                                   1.0   62   \n",
       "331                    0                                   1.0   29   \n",
       "530                    0                                   0.0   82   \n",
       "1250                   0                                   0.0   84   \n",
       "1669                   0                                   1.0   29   \n",
       "...                  ...                                   ...  ...   \n",
       "149139                 0                                   0.0   77   \n",
       "149431                 0                                   1.0   25   \n",
       "149472                 0                                   1.0   84   \n",
       "149769                 0                                   1.0   23   \n",
       "149993                 0                                   1.0   22   \n",
       "\n",
       "        NumberOfTime30-59DaysPastDueNotWorse  DebtRatio  MonthlyIncome  \\\n",
       "52                                         0        0.0            NaN   \n",
       "331                                        0        0.0            NaN   \n",
       "530                                        0        0.0            NaN   \n",
       "1250                                       0        0.0            NaN   \n",
       "1669                                       0        0.0            NaN   \n",
       "...                                      ...        ...            ...   \n",
       "149139                                     0        0.0            NaN   \n",
       "149431                                     0        0.0            NaN   \n",
       "149472                                     0        0.0            NaN   \n",
       "149769                                    98        0.0            NaN   \n",
       "149993                                     0        0.0          820.0   \n",
       "\n",
       "        NumberOfOpenCreditLinesAndLoans  NumberOfTimes90DaysLate  \\\n",
       "52                                    1                        0   \n",
       "331                                   0                        0   \n",
       "530                                   3                        0   \n",
       "1250                                  1                        0   \n",
       "1669                                  0                        0   \n",
       "...                                 ...                      ...   \n",
       "149139                                2                        0   \n",
       "149431                                1                        0   \n",
       "149472                                1                        0   \n",
       "149769                                0                       98   \n",
       "149993                                1                        0   \n",
       "\n",
       "        NumberRealEstateLoansOrLines  NumberOfTime60-89DaysPastDueNotWorse  \\\n",
       "52                                 0                                     0   \n",
       "331                                0                                     0   \n",
       "530                                0                                     0   \n",
       "1250                               0                                     0   \n",
       "1669                               0                                     0   \n",
       "...                              ...                                   ...   \n",
       "149139                             0                                     0   \n",
       "149431                             0                                     0   \n",
       "149472                             0                                     0   \n",
       "149769                             0                                    98   \n",
       "149993                             0                                     0   \n",
       "\n",
       "        NumberOfDependents  \n",
       "52                     0.0  \n",
       "331                    0.0  \n",
       "530                    0.0  \n",
       "1250                   0.0  \n",
       "1669                   0.0  \n",
       "...                    ...  \n",
       "149139                 0.0  \n",
       "149431                 NaN  \n",
       "149472                 0.0  \n",
       "149769                 NaN  \n",
       "149993                 0.0  \n",
       "\n",
       "[960 rows x 11 columns]"
      ]
     },
     "execution_count": 5,
     "metadata": {},
     "output_type": "execute_result"
    }
   ],
   "source": [
    "# check for any duplicates\n",
    "\n",
    "credit_data[credit_data.duplicated(keep=False)]"
   ]
  },
  {
   "cell_type": "markdown",
   "metadata": {},
   "source": [
    "There are null values in the MonthlyIncome and NumberOfDependents columns.\n",
    "\n",
    "There are duplicated observations."
   ]
  },
  {
   "cell_type": "code",
   "execution_count": 6,
   "metadata": {},
   "outputs": [],
   "source": [
    "credit_data.drop_duplicates(inplace=True)"
   ]
  },
  {
   "cell_type": "code",
   "execution_count": 7,
   "metadata": {},
   "outputs": [],
   "source": [
    "from sklearn.model_selection import train_test_split"
   ]
  },
  {
   "cell_type": "code",
   "execution_count": 8,
   "metadata": {},
   "outputs": [],
   "source": [
    "def split_input_output(data, target_column):\n",
    "    X = data.drop(columns = target_column)\n",
    "    y = data[target_column]\n",
    "\n",
    "    return X, y\n",
    "\n",
    "X, y = split_input_output(data = credit_data,\n",
    "                          target_column = \"SeriousDlqin2yrs\")"
   ]
  },
  {
   "cell_type": "code",
   "execution_count": 9,
   "metadata": {},
   "outputs": [
    {
     "data": {
      "text/plain": [
       "0.06699868131279663"
      ]
     },
     "execution_count": 9,
     "metadata": {},
     "output_type": "execute_result"
    }
   ],
   "source": [
    "# the proportion of rejected credit\n",
    "y.mean()"
   ]
  },
  {
   "cell_type": "code",
   "execution_count": 10,
   "metadata": {},
   "outputs": [],
   "source": [
    "# split into train & test\n",
    "X_train, X_test, y_train, y_test = train_test_split(X,\n",
    "                                                    y,\n",
    "                                                    test_size = 0.2,\n",
    "                                                    stratify = y,\n",
    "                                                    random_state = 20230703)"
   ]
  },
  {
   "cell_type": "markdown",
   "metadata": {},
   "source": [
    "## 1(a) Treating NumberOfDependents"
   ]
  },
  {
   "cell_type": "code",
   "execution_count": 11,
   "metadata": {},
   "outputs": [],
   "source": [
    "# imputing NumberOfDependents\n",
    "\n",
    "num_dependents_mode = float(X_train[\"NumberOfDependents\"].mode())\n",
    "col = \"NumberOfDependents\"\n",
    "\n",
    "for dataset in [X_train, X_test]:\n",
    "    dataset[col] = dataset[col].fillna(num_dependents_mode)"
   ]
  },
  {
   "cell_type": "markdown",
   "metadata": {},
   "source": [
    "## 1(b) Treating MonthlyIncome"
   ]
  },
  {
   "cell_type": "markdown",
   "metadata": {},
   "source": [
    "It seems that all customers with NaN MonthlyIncome have integer DebtRatio. But to calculate DebtRatio (which is equal to Monthly Debt Payments/Monthly Income), MonthlyIncome is needed. It is safe to assume that for these NaN MonthlyIncome customers, their DebtRatio is in reality just a rough estimate. \n",
    "\n",
    "Moreover, these NaN MonthlyIncome customers have large DebtRatio.\n",
    "\n",
    "Due to this, we may guess that these customers are actually businesses (with no exact monthly income), and that the customers with available MonthlyIncome are actually personal customers."
   ]
  },
  {
   "cell_type": "code",
   "execution_count": 12,
   "metadata": {},
   "outputs": [],
   "source": [
    "for data in [X_train, X_test]:\n",
    "    null_income = data[\"MonthlyIncome\"].isna()\n",
    "    data[\"TypeCustomer\"] = np.where(null_income, 1, 0)\n",
    "    # 1 is Business\n",
    "    # 0 is Personal\n",
    "    data[\"MonthlyIncome\"] = data[\"MonthlyIncome\"].fillna(0) # fill 0 income for Business"
   ]
  },
  {
   "cell_type": "code",
   "execution_count": 13,
   "metadata": {},
   "outputs": [
    {
     "data": {
      "image/png": "[encoded data removed]",
      "text/plain": [
       "<Figure size 1008x288 with 2 Axes>"
      ]
     },
     "metadata": {
      "needs_background": "light"
     },
     "output_type": "display_data"
    }
   ],
   "source": [
    "pers = X_train[\"TypeCustomer\"] == 0\n",
    "personal = pers\n",
    "nonzero_dr = X_train[\"DebtRatio\"] > 0\n",
    "\n",
    "fig, ax = plt.subplots(1,2, figsize=(14,4))\n",
    "\n",
    "for i, dataset in enumerate([X_train, X_test]):\n",
    "    pers = dataset[\"TypeCustomer\"] == 0\n",
    "    personal = pers\n",
    "    nonzero_dr = dataset[\"DebtRatio\"] > 0\n",
    "\n",
    "    ax[i].hist(x=np.log(dataset[pers & nonzero_dr][\"DebtRatio\"]), bins=200, label='Personal')\n",
    "    ax[i].hist(x=np.log(dataset[~pers & nonzero_dr][\"DebtRatio\"]), bins=100, label='Business')\n",
    "    ax[i].legend()\n",
    "    \n",
    "ax[0].set_title(\"Log Debt Ratio Histogram (Train)\")\n",
    "ax[1].set_title(\"Log Debt Ratio Histogram (Test)\")\n",
    "plt.show()"
   ]
  },
  {
   "cell_type": "markdown",
   "metadata": {},
   "source": [
    "## 2(c) Treating NumberOfTime30-59DaysPastDueNotWorse, NumberOfTime60-89DaysPastDueNotWorse & NumberOfTimes90DaysLate"
   ]
  },
  {
   "cell_type": "markdown",
   "metadata": {},
   "source": [
    "For these columns, there are observations with extremely large values which doesn't make sense."
   ]
  },
  {
   "cell_type": "code",
   "execution_count": 14,
   "metadata": {},
   "outputs": [
    {
     "data": {
      "image/png": "[encoded data removed]",
      "text/plain": [
       "<Figure size 1008x288 with 2 Axes>"
      ]
     },
     "metadata": {
      "needs_background": "light"
     },
     "output_type": "display_data"
    },
    {
     "data": {
      "image/png": "[encoded data removed]",
      "text/plain": [
       "<Figure size 1008x288 with 2 Axes>"
      ]
     },
     "metadata": {
      "needs_background": "light"
     },
     "output_type": "display_data"
    },
    {
     "data": {
      "image/png": "[encoded data removed]",
      "text/plain": [
       "<Figure size 1008x288 with 2 Axes>"
      ]
     },
     "metadata": {
      "needs_background": "light"
     },
     "output_type": "display_data"
    }
   ],
   "source": [
    "cols = [\"NumberOfTime30-59DaysPastDueNotWorse\",\n",
    "        \"NumberOfTime60-89DaysPastDueNotWorse\",\n",
    "        \"NumberOfTimes90DaysLate\"]\n",
    "\n",
    "for col in cols:\n",
    "    fig, ax = plt.subplots(1,2, figsize=(14,4))\n",
    "\n",
    "    for i, dataset in enumerate([X_train, X_test]):\n",
    "        sns.boxplot(data=dataset, x=col, ax=ax[i])\n",
    "\n",
    "    ax[0].set_title(\"Train\")\n",
    "    ax[1].set_title(\"Test\")\n",
    "    plt.show()"
   ]
  },
  {
   "cell_type": "code",
   "execution_count": 15,
   "metadata": {},
   "outputs": [
    {
     "data": {
      "text/plain": [
       "21"
      ]
     },
     "execution_count": 15,
     "metadata": {},
     "output_type": "execute_result"
    }
   ],
   "source": [
    "large_val_obs = X_train[\"NumberOfTime30-59DaysPastDueNotWorse\"] > 80\n",
    "X_train[large_val_obs][\"age\"].min()"
   ]
  },
  {
   "cell_type": "markdown",
   "metadata": {},
   "source": [
    "It doesn't make any sense for a 21-year-old to have 98 times of 30-59 days past payments $98\\times 30/365 = 8.05$; it doesn't make sense for a 21-year-old to have started making credit payment from the age 13. \n",
    "\n",
    "For these type of observations, we impute these large values with the mode (which is 0)."
   ]
  },
  {
   "cell_type": "code",
   "execution_count": 16,
   "metadata": {},
   "outputs": [],
   "source": [
    "for col in cols:\n",
    "\n",
    "    mode = float(X_train[col].mode())\n",
    "    for dataset in [X_train, X_test]:\n",
    "        dataset[col] = np.where(dataset[col] > 20,\n",
    "                                mode, \n",
    "                                dataset[col])"
   ]
  },
  {
   "cell_type": "code",
   "execution_count": 17,
   "metadata": {},
   "outputs": [
    {
     "data": {
      "image/png": "[encoded data removed]",
      "text/plain": [
       "<Figure size 1008x288 with 2 Axes>"
      ]
     },
     "metadata": {
      "needs_background": "light"
     },
     "output_type": "display_data"
    },
    {
     "data": {
      "image/png": "[encoded data removed]",
      "text/plain": [
       "<Figure size 1008x288 with 2 Axes>"
      ]
     },
     "metadata": {
      "needs_background": "light"
     },
     "output_type": "display_data"
    },
    {
     "data": {
      "image/png": "[encoded data removed]",
      "text/plain": [
       "<Figure size 1008x288 with 2 Axes>"
      ]
     },
     "metadata": {
      "needs_background": "light"
     },
     "output_type": "display_data"
    }
   ],
   "source": [
    "# After imputing\n",
    "\n",
    "for col in cols:\n",
    "    fig, ax = plt.subplots(1,2, figsize=(14,4))\n",
    "\n",
    "    for i, dataset in enumerate([X_train, X_test]):\n",
    "        sns.boxplot(data=dataset, x=col, ax=ax[i])\n",
    "\n",
    "    ax[0].set_title(\"Train\")\n",
    "    ax[1].set_title(\"Test\")\n",
    "    plt.show()"
   ]
  },
  {
   "cell_type": "markdown",
   "metadata": {},
   "source": [
    "## 1(d) Treating Age"
   ]
  },
  {
   "cell_type": "code",
   "execution_count": 18,
   "metadata": {},
   "outputs": [
    {
     "data": {
      "image/png": "[encoded data removed]",
      "text/plain": [
       "<Figure size 1008x288 with 2 Axes>"
      ]
     },
     "metadata": {
      "needs_background": "light"
     },
     "output_type": "display_data"
    }
   ],
   "source": [
    "fig, ax = plt.subplots(1,2, figsize=(14,4))\n",
    "data_group = [\"Train\", \"Test\"]\n",
    "\n",
    "for i, dataset in enumerate([X_train, X_test]):\n",
    "    sns.boxplot(data=dataset, x=\"age\", ax=ax[i])\n",
    "    ax[i].set_title(data_group[i])\n",
    "    \n",
    "plt.show()"
   ]
  },
  {
   "cell_type": "code",
   "execution_count": 19,
   "metadata": {},
   "outputs": [
    {
     "data": {
      "text/html": [
       "<div>\n",
       "<style scoped>\n",
       "    .dataframe tbody tr th:only-of-type {\n",
       "        vertical-align: middle;\n",
       "    }\n",
       "\n",
       "    .dataframe tbody tr th {\n",
       "        vertical-align: top;\n",
       "    }\n",
       "\n",
       "    .dataframe thead th {\n",
       "        text-align: right;\n",
       "    }\n",
       "</style>\n",
       "<table border=\"1\" class=\"dataframe\">\n",
       "  <thead>\n",
       "    <tr style=\"text-align: right;\">\n",
       "      <th></th>\n",
       "      <th>RevolvingUtilizationOfUnsecuredLines</th>\n",
       "      <th>age</th>\n",
       "      <th>NumberOfTime30-59DaysPastDueNotWorse</th>\n",
       "      <th>DebtRatio</th>\n",
       "      <th>MonthlyIncome</th>\n",
       "      <th>NumberOfOpenCreditLinesAndLoans</th>\n",
       "      <th>NumberOfTimes90DaysLate</th>\n",
       "      <th>NumberRealEstateLoansOrLines</th>\n",
       "      <th>NumberOfTime60-89DaysPastDueNotWorse</th>\n",
       "      <th>NumberOfDependents</th>\n",
       "      <th>TypeCustomer</th>\n",
       "    </tr>\n",
       "  </thead>\n",
       "  <tbody>\n",
       "    <tr>\n",
       "      <th>65695</th>\n",
       "      <td>1.0</td>\n",
       "      <td>0</td>\n",
       "      <td>1.0</td>\n",
       "      <td>0.436927</td>\n",
       "      <td>6000.0</td>\n",
       "      <td>6</td>\n",
       "      <td>0.0</td>\n",
       "      <td>2</td>\n",
       "      <td>0.0</td>\n",
       "      <td>2.0</td>\n",
       "      <td>0</td>\n",
       "    </tr>\n",
       "  </tbody>\n",
       "</table>\n",
       "</div>"
      ],
      "text/plain": [
       "       RevolvingUtilizationOfUnsecuredLines  age  \\\n",
       "65695                                   1.0    0   \n",
       "\n",
       "       NumberOfTime30-59DaysPastDueNotWorse  DebtRatio  MonthlyIncome  \\\n",
       "65695                                   1.0   0.436927         6000.0   \n",
       "\n",
       "       NumberOfOpenCreditLinesAndLoans  NumberOfTimes90DaysLate  \\\n",
       "65695                                6                      0.0   \n",
       "\n",
       "       NumberRealEstateLoansOrLines  NumberOfTime60-89DaysPastDueNotWorse  \\\n",
       "65695                             2                                   0.0   \n",
       "\n",
       "       NumberOfDependents  TypeCustomer  \n",
       "65695                 2.0             0  "
      ]
     },
     "execution_count": 19,
     "metadata": {},
     "output_type": "execute_result"
    }
   ],
   "source": [
    "X_train[X_train[\"age\"]==0]"
   ]
  },
  {
   "cell_type": "markdown",
   "metadata": {},
   "source": [
    "It doesn't make sense for a newborn baby to have a monthly income & open credit lines. So we impute this age value with the median."
   ]
  },
  {
   "cell_type": "code",
   "execution_count": 20,
   "metadata": {},
   "outputs": [],
   "source": [
    "age_median = X_train[\"age\"].median()\n",
    "X_train[\"age\"].replace(0, age_median, inplace=True)"
   ]
  },
  {
   "cell_type": "markdown",
   "metadata": {},
   "source": [
    "# 2. Exporting Training & Test Data"
   ]
  },
  {
   "cell_type": "code",
   "execution_count": 21,
   "metadata": {},
   "outputs": [],
   "source": [
    "# exporting X_train, y_train, X_test and y_test to csv\n",
    "\n",
    "X_train.to_csv(\"X_train.csv\")\n",
    "y_train.to_csv(\"y_train.csv\")\n",
    "\n",
    "X_test.to_csv(\"X_test.csv\")\n",
    "y_test.to_csv(\"y_test.csv\")"
   ]
  },
  {
   "cell_type": "markdown",
   "metadata": {},
   "source": [
    "# 3. Modelling"
   ]
  },
  {
   "cell_type": "code",
   "execution_count": 22,
   "metadata": {},
   "outputs": [],
   "source": [
    "X_train = pd.read_csv(\"X_train.csv\", index_col=0)\n",
    "y_train = pd.read_csv(\"y_train.csv\", index_col=0).squeeze()"
   ]
  },
  {
   "cell_type": "code",
   "execution_count": 23,
   "metadata": {},
   "outputs": [
    {
     "data": {
      "text/html": [
       "<div>\n",
       "<style scoped>\n",
       "    .dataframe tbody tr th:only-of-type {\n",
       "        vertical-align: middle;\n",
       "    }\n",
       "\n",
       "    .dataframe tbody tr th {\n",
       "        vertical-align: top;\n",
       "    }\n",
       "\n",
       "    .dataframe thead th {\n",
       "        text-align: right;\n",
       "    }\n",
       "</style>\n",
       "<table border=\"1\" class=\"dataframe\">\n",
       "  <thead>\n",
       "    <tr style=\"text-align: right;\">\n",
       "      <th></th>\n",
       "      <th>RevolvingUtilizationOfUnsecuredLines</th>\n",
       "      <th>age</th>\n",
       "      <th>NumberOfTime30-59DaysPastDueNotWorse</th>\n",
       "      <th>DebtRatio</th>\n",
       "      <th>MonthlyIncome</th>\n",
       "      <th>NumberOfOpenCreditLinesAndLoans</th>\n",
       "      <th>NumberOfTimes90DaysLate</th>\n",
       "      <th>NumberRealEstateLoansOrLines</th>\n",
       "      <th>NumberOfTime60-89DaysPastDueNotWorse</th>\n",
       "      <th>NumberOfDependents</th>\n",
       "      <th>TypeCustomer</th>\n",
       "    </tr>\n",
       "  </thead>\n",
       "  <tbody>\n",
       "    <tr>\n",
       "      <th>80307</th>\n",
       "      <td>0.457839</td>\n",
       "      <td>47</td>\n",
       "      <td>0.0</td>\n",
       "      <td>0.046115</td>\n",
       "      <td>67743.0</td>\n",
       "      <td>12</td>\n",
       "      <td>0.0</td>\n",
       "      <td>1</td>\n",
       "      <td>0.0</td>\n",
       "      <td>0.0</td>\n",
       "      <td>0</td>\n",
       "    </tr>\n",
       "    <tr>\n",
       "      <th>30226</th>\n",
       "      <td>0.009027</td>\n",
       "      <td>52</td>\n",
       "      <td>0.0</td>\n",
       "      <td>0.477691</td>\n",
       "      <td>6790.0</td>\n",
       "      <td>16</td>\n",
       "      <td>0.0</td>\n",
       "      <td>2</td>\n",
       "      <td>0.0</td>\n",
       "      <td>0.0</td>\n",
       "      <td>0</td>\n",
       "    </tr>\n",
       "    <tr>\n",
       "      <th>133736</th>\n",
       "      <td>0.999900</td>\n",
       "      <td>47</td>\n",
       "      <td>2.0</td>\n",
       "      <td>0.226398</td>\n",
       "      <td>7583.0</td>\n",
       "      <td>4</td>\n",
       "      <td>0.0</td>\n",
       "      <td>1</td>\n",
       "      <td>0.0</td>\n",
       "      <td>2.0</td>\n",
       "      <td>0</td>\n",
       "    </tr>\n",
       "    <tr>\n",
       "      <th>37286</th>\n",
       "      <td>0.190475</td>\n",
       "      <td>59</td>\n",
       "      <td>1.0</td>\n",
       "      <td>0.320860</td>\n",
       "      <td>6466.0</td>\n",
       "      <td>6</td>\n",
       "      <td>0.0</td>\n",
       "      <td>1</td>\n",
       "      <td>0.0</td>\n",
       "      <td>1.0</td>\n",
       "      <td>0</td>\n",
       "    </tr>\n",
       "    <tr>\n",
       "      <th>6148</th>\n",
       "      <td>0.204319</td>\n",
       "      <td>38</td>\n",
       "      <td>0.0</td>\n",
       "      <td>0.331111</td>\n",
       "      <td>6000.0</td>\n",
       "      <td>14</td>\n",
       "      <td>0.0</td>\n",
       "      <td>2</td>\n",
       "      <td>0.0</td>\n",
       "      <td>2.0</td>\n",
       "      <td>0</td>\n",
       "    </tr>\n",
       "  </tbody>\n",
       "</table>\n",
       "</div>"
      ],
      "text/plain": [
       "        RevolvingUtilizationOfUnsecuredLines  age  \\\n",
       "80307                               0.457839   47   \n",
       "30226                               0.009027   52   \n",
       "133736                              0.999900   47   \n",
       "37286                               0.190475   59   \n",
       "6148                                0.204319   38   \n",
       "\n",
       "        NumberOfTime30-59DaysPastDueNotWorse  DebtRatio  MonthlyIncome  \\\n",
       "80307                                    0.0   0.046115        67743.0   \n",
       "30226                                    0.0   0.477691         6790.0   \n",
       "133736                                   2.0   0.226398         7583.0   \n",
       "37286                                    1.0   0.320860         6466.0   \n",
       "6148                                     0.0   0.331111         6000.0   \n",
       "\n",
       "        NumberOfOpenCreditLinesAndLoans  NumberOfTimes90DaysLate  \\\n",
       "80307                                12                      0.0   \n",
       "30226                                16                      0.0   \n",
       "133736                                4                      0.0   \n",
       "37286                                 6                      0.0   \n",
       "6148                                 14                      0.0   \n",
       "\n",
       "        NumberRealEstateLoansOrLines  NumberOfTime60-89DaysPastDueNotWorse  \\\n",
       "80307                              1                                   0.0   \n",
       "30226                              2                                   0.0   \n",
       "133736                             1                                   0.0   \n",
       "37286                              1                                   0.0   \n",
       "6148                               2                                   0.0   \n",
       "\n",
       "        NumberOfDependents  TypeCustomer  \n",
       "80307                  0.0             0  \n",
       "30226                  0.0             0  \n",
       "133736                 2.0             0  \n",
       "37286                  1.0             0  \n",
       "6148                   2.0             0  "
      ]
     },
     "execution_count": 23,
     "metadata": {},
     "output_type": "execute_result"
    }
   ],
   "source": [
    "X_train.head()"
   ]
  },
  {
   "cell_type": "code",
   "execution_count": 24,
   "metadata": {},
   "outputs": [],
   "source": [
    "# transforming MonthlyIncome\n",
    "\n",
    "X_train[\"LogMonthlyIncome\"] = np.log(X_train[\"MonthlyIncome\"]+1)"
   ]
  },
  {
   "cell_type": "code",
   "execution_count": 25,
   "metadata": {},
   "outputs": [
    {
     "data": {
      "text/plain": [
       "<AxesSubplot:xlabel='LogMonthlyIncome', ylabel='Count'>"
      ]
     },
     "execution_count": 25,
     "metadata": {},
     "output_type": "execute_result"
    },
    {
     "data": {
      "image/png": "[encoded data removed]",
      "text/plain": [
       "<Figure size 432x288 with 1 Axes>"
      ]
     },
     "metadata": {
      "needs_background": "light"
     },
     "output_type": "display_data"
    }
   ],
   "source": [
    "sns.histplot(data=X_train, x=\"LogMonthlyIncome\")"
   ]
  },
  {
   "cell_type": "code",
   "execution_count": 26,
   "metadata": {},
   "outputs": [],
   "source": [
    "# transforming RevolvingUtilizationOfUnsecuredLines\n",
    "\n",
    "X_train[\"LogLogRevolvingUtilizationOfUnsecuredLines\"] = np.log(np.log(X_train[\"RevolvingUtilizationOfUnsecuredLines\"]+1)+1)"
   ]
  },
  {
   "cell_type": "code",
   "execution_count": 27,
   "metadata": {},
   "outputs": [
    {
     "data": {
      "text/plain": [
       "<AxesSubplot:xlabel='LogLogRevolvingUtilizationOfUnsecuredLines', ylabel='Count'>"
      ]
     },
     "execution_count": 27,
     "metadata": {},
     "output_type": "execute_result"
    },
    {
     "data": {
      "image/png": "[encoded data removed]",
      "text/plain": [
       "<Figure size 432x288 with 1 Axes>"
      ]
     },
     "metadata": {
      "needs_background": "light"
     },
     "output_type": "display_data"
    }
   ],
   "source": [
    "sns.histplot(data=X_train, x=\"LogLogRevolvingUtilizationOfUnsecuredLines\")"
   ]
  },
  {
   "cell_type": "code",
   "execution_count": 28,
   "metadata": {},
   "outputs": [],
   "source": [
    "# transforming DebtRatio\n",
    "\n",
    "X_train[\"LogDebtRatio\"] = np.log(X_train[\"DebtRatio\"]+1e-05)"
   ]
  },
  {
   "cell_type": "code",
   "execution_count": 29,
   "metadata": {},
   "outputs": [
    {
     "data": {
      "text/plain": [
       "<AxesSubplot:xlabel='LogDebtRatio', ylabel='Count'>"
      ]
     },
     "execution_count": 29,
     "metadata": {},
     "output_type": "execute_result"
    },
    {
     "data": {
      "image/png": "[encoded data removed]",
      "text/plain": [
       "<Figure size 432x288 with 1 Axes>"
      ]
     },
     "metadata": {
      "needs_background": "light"
     },
     "output_type": "display_data"
    }
   ],
   "source": [
    "sns.histplot(data=X_train, x=\"LogDebtRatio\")"
   ]
  },
  {
   "cell_type": "markdown",
   "metadata": {},
   "source": [
    "## (3a) Standardizing"
   ]
  },
  {
   "cell_type": "code",
   "execution_count": 30,
   "metadata": {},
   "outputs": [
    {
     "data": {
      "text/html": [
       "<style>#sk-container-id-1 {color: black;background-color: white;}#sk-container-id-1 pre{padding: 0;}#sk-container-id-1 div.sk-toggleable {background-color: white;}#sk-container-id-1 label.sk-toggleable__label {cursor: pointer;display: block;width: 100%;margin-bottom: 0;padding: 0.3em;box-sizing: border-box;text-align: center;}#sk-container-id-1 label.sk-toggleable__label-arrow:before {content: \"▸\";float: left;margin-right: 0.25em;color: #696969;}#sk-container-id-1 label.sk-toggleable__label-arrow:hover:before {color: black;}#sk-container-id-1 div.sk-estimator:hover label.sk-toggleable__label-arrow:before {color: black;}#sk-container-id-1 div.sk-toggleable__content {max-height: 0;max-width: 0;overflow: hidden;text-align: left;background-color: #f0f8ff;}#sk-container-id-1 div.sk-toggleable__content pre {margin: 0.2em;color: black;border-radius: 0.25em;background-color: #f0f8ff;}#sk-container-id-1 input.sk-toggleable__control:checked~div.sk-toggleable__content {max-height: 200px;max-width: 100%;overflow: auto;}#sk-container-id-1 input.sk-toggleable__control:checked~label.sk-toggleable__label-arrow:before {content: \"▾\";}#sk-container-id-1 div.sk-estimator input.sk-toggleable__control:checked~label.sk-toggleable__label {background-color: #d4ebff;}#sk-container-id-1 div.sk-label input.sk-toggleable__control:checked~label.sk-toggleable__label {background-color: #d4ebff;}#sk-container-id-1 input.sk-hidden--visually {border: 0;clip: rect(1px 1px 1px 1px);clip: rect(1px, 1px, 1px, 1px);height: 1px;margin: -1px;overflow: hidden;padding: 0;position: absolute;width: 1px;}#sk-container-id-1 div.sk-estimator {font-family: monospace;background-color: #f0f8ff;border: 1px dotted black;border-radius: 0.25em;box-sizing: border-box;margin-bottom: 0.5em;}#sk-container-id-1 div.sk-estimator:hover {background-color: #d4ebff;}#sk-container-id-1 div.sk-parallel-item::after {content: \"\";width: 100%;border-bottom: 1px solid gray;flex-grow: 1;}#sk-container-id-1 div.sk-label:hover label.sk-toggleable__label {background-color: #d4ebff;}#sk-container-id-1 div.sk-serial::before {content: \"\";position: absolute;border-left: 1px solid gray;box-sizing: border-box;top: 0;bottom: 0;left: 50%;z-index: 0;}#sk-container-id-1 div.sk-serial {display: flex;flex-direction: column;align-items: center;background-color: white;padding-right: 0.2em;padding-left: 0.2em;position: relative;}#sk-container-id-1 div.sk-item {position: relative;z-index: 1;}#sk-container-id-1 div.sk-parallel {display: flex;align-items: stretch;justify-content: center;background-color: white;position: relative;}#sk-container-id-1 div.sk-item::before, #sk-container-id-1 div.sk-parallel-item::before {content: \"\";position: absolute;border-left: 1px solid gray;box-sizing: border-box;top: 0;bottom: 0;left: 50%;z-index: -1;}#sk-container-id-1 div.sk-parallel-item {display: flex;flex-direction: column;z-index: 1;position: relative;background-color: white;}#sk-container-id-1 div.sk-parallel-item:first-child::after {align-self: flex-end;width: 50%;}#sk-container-id-1 div.sk-parallel-item:last-child::after {align-self: flex-start;width: 50%;}#sk-container-id-1 div.sk-parallel-item:only-child::after {width: 0;}#sk-container-id-1 div.sk-dashed-wrapped {border: 1px dashed gray;margin: 0 0.4em 0.5em 0.4em;box-sizing: border-box;padding-bottom: 0.4em;background-color: white;}#sk-container-id-1 div.sk-label label {font-family: monospace;font-weight: bold;display: inline-block;line-height: 1.2em;}#sk-container-id-1 div.sk-label-container {text-align: center;}#sk-container-id-1 div.sk-container {/* jupyter's `normalize.less` sets `[hidden] { display: none; }` but bootstrap.min.css set `[hidden] { display: none !important; }` so we also need the `!important` here to be able to override the default hidden behavior on the sphinx rendered scikit-learn.org. See: https://github.com/scikit-learn/scikit-learn/issues/21755 */display: inline-block !important;position: relative;}#sk-container-id-1 div.sk-text-repr-fallback {display: none;}</style><div id=\"sk-container-id-1\" class=\"sk-top-container\"><div class=\"sk-text-repr-fallback\"><pre>StandardScaler()</pre><b>In a Jupyter environment, please rerun this cell to show the HTML representation or trust the notebook. <br />On GitHub, the HTML representation is unable to render, please try loading this page with nbviewer.org.</b></div><div class=\"sk-container\" hidden><div class=\"sk-item\"><div class=\"sk-estimator sk-toggleable\"><input class=\"sk-toggleable__control sk-hidden--visually\" id=\"sk-estimator-id-1\" type=\"checkbox\" checked><label for=\"sk-estimator-id-1\" class=\"sk-toggleable__label sk-toggleable__label-arrow\">StandardScaler</label><div class=\"sk-toggleable__content\"><pre>StandardScaler()</pre></div></div></div></div></div>"
      ],
      "text/plain": [
       "StandardScaler()"
      ]
     },
     "execution_count": 30,
     "metadata": {},
     "output_type": "execute_result"
    }
   ],
   "source": [
    "from sklearn.preprocessing import StandardScaler\n",
    "\n",
    "# Standardizing data\n",
    "scaler = StandardScaler()\n",
    "scaler.fit(X_train)"
   ]
  },
  {
   "cell_type": "code",
   "execution_count": 31,
   "metadata": {},
   "outputs": [],
   "source": [
    "# Convert X_train & X_test\n",
    "def scaler_transform(data, scaler):\n",
    "    data_scaled = scaler.transform(data)\n",
    "    data_scaled = pd.DataFrame(data_scaled)\n",
    "    data_scaled.columns = data.columns\n",
    "    data_scaled.index = data.index\n",
    "\n",
    "    return data_scaled"
   ]
  },
  {
   "cell_type": "code",
   "execution_count": 32,
   "metadata": {},
   "outputs": [],
   "source": [
    "X_train_scaled = scaler_transform(data = X_train,\n",
    "                                  scaler = scaler)"
   ]
  },
  {
   "cell_type": "code",
   "execution_count": 33,
   "metadata": {},
   "outputs": [
    {
     "data": {
      "text/html": [
       "<div>\n",
       "<style scoped>\n",
       "    .dataframe tbody tr th:only-of-type {\n",
       "        vertical-align: middle;\n",
       "    }\n",
       "\n",
       "    .dataframe tbody tr th {\n",
       "        vertical-align: top;\n",
       "    }\n",
       "\n",
       "    .dataframe thead th {\n",
       "        text-align: right;\n",
       "    }\n",
       "</style>\n",
       "<table border=\"1\" class=\"dataframe\">\n",
       "  <thead>\n",
       "    <tr style=\"text-align: right;\">\n",
       "      <th></th>\n",
       "      <th>RevolvingUtilizationOfUnsecuredLines</th>\n",
       "      <th>age</th>\n",
       "      <th>NumberOfTime30-59DaysPastDueNotWorse</th>\n",
       "      <th>DebtRatio</th>\n",
       "      <th>MonthlyIncome</th>\n",
       "      <th>NumberOfOpenCreditLinesAndLoans</th>\n",
       "      <th>NumberOfTimes90DaysLate</th>\n",
       "      <th>NumberRealEstateLoansOrLines</th>\n",
       "      <th>NumberOfTime60-89DaysPastDueNotWorse</th>\n",
       "      <th>NumberOfDependents</th>\n",
       "      <th>TypeCustomer</th>\n",
       "      <th>LogMonthlyIncome</th>\n",
       "      <th>LogLogRevolvingUtilizationOfUnsecuredLines</th>\n",
       "      <th>LogDebtRatio</th>\n",
       "    </tr>\n",
       "  </thead>\n",
       "  <tbody>\n",
       "    <tr>\n",
       "      <th>80307</th>\n",
       "      <td>-0.022665</td>\n",
       "      <td>-0.359114</td>\n",
       "      <td>-0.352441</td>\n",
       "      <td>-0.232311</td>\n",
       "      <td>4.359262</td>\n",
       "      <td>0.684016</td>\n",
       "      <td>-0.185818</td>\n",
       "      <td>-0.020921</td>\n",
       "      <td>-0.196823</td>\n",
       "      <td>-0.667284</td>\n",
       "      <td>-0.492793</td>\n",
       "      <td>1.228830</td>\n",
       "      <td>0.563201</td>\n",
       "      <td>-0.735964</td>\n",
       "    </tr>\n",
       "    <tr>\n",
       "      <th>30226</th>\n",
       "      <td>-0.024498</td>\n",
       "      <td>-0.019155</td>\n",
       "      <td>-0.352441</td>\n",
       "      <td>-0.232021</td>\n",
       "      <td>0.097846</td>\n",
       "      <td>1.462043</td>\n",
       "      <td>-0.185818</td>\n",
       "      <td>0.860418</td>\n",
       "      <td>-0.196823</td>\n",
       "      <td>-0.667284</td>\n",
       "      <td>-0.492793</td>\n",
       "      <td>0.579399</td>\n",
       "      <td>-0.953422</td>\n",
       "      <td>-0.144244</td>\n",
       "    </tr>\n",
       "    <tr>\n",
       "      <th>133736</th>\n",
       "      <td>-0.020451</td>\n",
       "      <td>-0.359114</td>\n",
       "      <td>2.515175</td>\n",
       "      <td>-0.232190</td>\n",
       "      <td>0.153287</td>\n",
       "      <td>-0.872036</td>\n",
       "      <td>-0.185818</td>\n",
       "      <td>-0.020921</td>\n",
       "      <td>-0.196823</td>\n",
       "      <td>1.136102</td>\n",
       "      <td>-0.492793</td>\n",
       "      <td>0.610582</td>\n",
       "      <td>1.571355</td>\n",
       "      <td>-0.333241</td>\n",
       "    </tr>\n",
       "    <tr>\n",
       "      <th>37286</th>\n",
       "      <td>-0.023757</td>\n",
       "      <td>0.456787</td>\n",
       "      <td>1.081367</td>\n",
       "      <td>-0.232126</td>\n",
       "      <td>0.075194</td>\n",
       "      <td>-0.483023</td>\n",
       "      <td>-0.185818</td>\n",
       "      <td>-0.020921</td>\n",
       "      <td>-0.196823</td>\n",
       "      <td>0.234409</td>\n",
       "      <td>-0.492793</td>\n",
       "      <td>0.565596</td>\n",
       "      <td>-0.213128</td>\n",
       "      <td>-0.244976</td>\n",
       "    </tr>\n",
       "    <tr>\n",
       "      <th>6148</th>\n",
       "      <td>-0.023700</td>\n",
       "      <td>-0.971039</td>\n",
       "      <td>-0.352441</td>\n",
       "      <td>-0.232120</td>\n",
       "      <td>0.042615</td>\n",
       "      <td>1.073030</td>\n",
       "      <td>-0.185818</td>\n",
       "      <td>0.860418</td>\n",
       "      <td>-0.196823</td>\n",
       "      <td>1.136102</td>\n",
       "      <td>-0.492793</td>\n",
       "      <td>0.544481</td>\n",
       "      <td>-0.165341</td>\n",
       "      <td>-0.237015</td>\n",
       "    </tr>\n",
       "    <tr>\n",
       "      <th>...</th>\n",
       "      <td>...</td>\n",
       "      <td>...</td>\n",
       "      <td>...</td>\n",
       "      <td>...</td>\n",
       "      <td>...</td>\n",
       "      <td>...</td>\n",
       "      <td>...</td>\n",
       "      <td>...</td>\n",
       "      <td>...</td>\n",
       "      <td>...</td>\n",
       "      <td>...</td>\n",
       "      <td>...</td>\n",
       "      <td>...</td>\n",
       "      <td>...</td>\n",
       "    </tr>\n",
       "    <tr>\n",
       "      <th>29359</th>\n",
       "      <td>-0.023640</td>\n",
       "      <td>0.660762</td>\n",
       "      <td>-0.352441</td>\n",
       "      <td>-0.232025</td>\n",
       "      <td>0.112528</td>\n",
       "      <td>6.713719</td>\n",
       "      <td>-0.185818</td>\n",
       "      <td>0.860418</td>\n",
       "      <td>-0.196823</td>\n",
       "      <td>-0.667284</td>\n",
       "      <td>-0.492793</td>\n",
       "      <td>0.587998</td>\n",
       "      <td>-0.115295</td>\n",
       "      <td>-0.147544</td>\n",
       "    </tr>\n",
       "    <tr>\n",
       "      <th>85572</th>\n",
       "      <td>-0.020450</td>\n",
       "      <td>0.864737</td>\n",
       "      <td>-0.352441</td>\n",
       "      <td>-0.232341</td>\n",
       "      <td>0.118331</td>\n",
       "      <td>-1.261049</td>\n",
       "      <td>-0.185818</td>\n",
       "      <td>-0.902261</td>\n",
       "      <td>-0.196823</td>\n",
       "      <td>-0.667284</td>\n",
       "      <td>-0.492793</td>\n",
       "      <td>0.591325</td>\n",
       "      <td>1.571499</td>\n",
       "      <td>-2.184042</td>\n",
       "    </tr>\n",
       "    <tr>\n",
       "      <th>118251</th>\n",
       "      <td>-0.024535</td>\n",
       "      <td>2.768504</td>\n",
       "      <td>-0.352441</td>\n",
       "      <td>-0.226981</td>\n",
       "      <td>-0.376864</td>\n",
       "      <td>-1.261049</td>\n",
       "      <td>-0.185818</td>\n",
       "      <td>-0.902261</td>\n",
       "      <td>-0.196823</td>\n",
       "      <td>-0.667284</td>\n",
       "      <td>2.029248</td>\n",
       "      <td>-1.911825</td>\n",
       "      <td>-0.997062</td>\n",
       "      <td>0.569123</td>\n",
       "    </tr>\n",
       "    <tr>\n",
       "      <th>95767</th>\n",
       "      <td>-0.021054</td>\n",
       "      <td>0.048836</td>\n",
       "      <td>-0.352441</td>\n",
       "      <td>-0.231911</td>\n",
       "      <td>-0.046734</td>\n",
       "      <td>0.684016</td>\n",
       "      <td>-0.185818</td>\n",
       "      <td>0.860418</td>\n",
       "      <td>-0.196823</td>\n",
       "      <td>-0.667284</td>\n",
       "      <td>-0.492793</td>\n",
       "      <td>0.476864</td>\n",
       "      <td>1.344946</td>\n",
       "      <td>-0.069429</td>\n",
       "    </tr>\n",
       "    <tr>\n",
       "      <th>140296</th>\n",
       "      <td>-0.024535</td>\n",
       "      <td>1.612645</td>\n",
       "      <td>-0.352441</td>\n",
       "      <td>-0.232282</td>\n",
       "      <td>0.675818</td>\n",
       "      <td>-0.483023</td>\n",
       "      <td>-0.185818</td>\n",
       "      <td>-0.020921</td>\n",
       "      <td>-0.196823</td>\n",
       "      <td>0.234409</td>\n",
       "      <td>-0.492793</td>\n",
       "      <td>0.804233</td>\n",
       "      <td>-0.997062</td>\n",
       "      <td>-0.568834</td>\n",
       "    </tr>\n",
       "  </tbody>\n",
       "</table>\n",
       "<p>119512 rows × 14 columns</p>\n",
       "</div>"
      ],
      "text/plain": [
       "        RevolvingUtilizationOfUnsecuredLines       age  \\\n",
       "80307                              -0.022665 -0.359114   \n",
       "30226                              -0.024498 -0.019155   \n",
       "133736                             -0.020451 -0.359114   \n",
       "37286                              -0.023757  0.456787   \n",
       "6148                               -0.023700 -0.971039   \n",
       "...                                      ...       ...   \n",
       "29359                              -0.023640  0.660762   \n",
       "85572                              -0.020450  0.864737   \n",
       "118251                             -0.024535  2.768504   \n",
       "95767                              -0.021054  0.048836   \n",
       "140296                             -0.024535  1.612645   \n",
       "\n",
       "        NumberOfTime30-59DaysPastDueNotWorse  DebtRatio  MonthlyIncome  \\\n",
       "80307                              -0.352441  -0.232311       4.359262   \n",
       "30226                              -0.352441  -0.232021       0.097846   \n",
       "133736                              2.515175  -0.232190       0.153287   \n",
       "37286                               1.081367  -0.232126       0.075194   \n",
       "6148                               -0.352441  -0.232120       0.042615   \n",
       "...                                      ...        ...            ...   \n",
       "29359                              -0.352441  -0.232025       0.112528   \n",
       "85572                              -0.352441  -0.232341       0.118331   \n",
       "118251                             -0.352441  -0.226981      -0.376864   \n",
       "95767                              -0.352441  -0.231911      -0.046734   \n",
       "140296                             -0.352441  -0.232282       0.675818   \n",
       "\n",
       "        NumberOfOpenCreditLinesAndLoans  NumberOfTimes90DaysLate  \\\n",
       "80307                          0.684016                -0.185818   \n",
       "30226                          1.462043                -0.185818   \n",
       "133736                        -0.872036                -0.185818   \n",
       "37286                         -0.483023                -0.185818   \n",
       "6148                           1.073030                -0.185818   \n",
       "...                                 ...                      ...   \n",
       "29359                          6.713719                -0.185818   \n",
       "85572                         -1.261049                -0.185818   \n",
       "118251                        -1.261049                -0.185818   \n",
       "95767                          0.684016                -0.185818   \n",
       "140296                        -0.483023                -0.185818   \n",
       "\n",
       "        NumberRealEstateLoansOrLines  NumberOfTime60-89DaysPastDueNotWorse  \\\n",
       "80307                      -0.020921                             -0.196823   \n",
       "30226                       0.860418                             -0.196823   \n",
       "133736                     -0.020921                             -0.196823   \n",
       "37286                      -0.020921                             -0.196823   \n",
       "6148                        0.860418                             -0.196823   \n",
       "...                              ...                                   ...   \n",
       "29359                       0.860418                             -0.196823   \n",
       "85572                      -0.902261                             -0.196823   \n",
       "118251                     -0.902261                             -0.196823   \n",
       "95767                       0.860418                             -0.196823   \n",
       "140296                     -0.020921                             -0.196823   \n",
       "\n",
       "        NumberOfDependents  TypeCustomer  LogMonthlyIncome  \\\n",
       "80307            -0.667284     -0.492793          1.228830   \n",
       "30226            -0.667284     -0.492793          0.579399   \n",
       "133736            1.136102     -0.492793          0.610582   \n",
       "37286             0.234409     -0.492793          0.565596   \n",
       "6148              1.136102     -0.492793          0.544481   \n",
       "...                    ...           ...               ...   \n",
       "29359            -0.667284     -0.492793          0.587998   \n",
       "85572            -0.667284     -0.492793          0.591325   \n",
       "118251           -0.667284      2.029248         -1.911825   \n",
       "95767            -0.667284     -0.492793          0.476864   \n",
       "140296            0.234409     -0.492793          0.804233   \n",
       "\n",
       "        LogLogRevolvingUtilizationOfUnsecuredLines  LogDebtRatio  \n",
       "80307                                     0.563201     -0.735964  \n",
       "30226                                    -0.953422     -0.144244  \n",
       "133736                                    1.571355     -0.333241  \n",
       "37286                                    -0.213128     -0.244976  \n",
       "6148                                     -0.165341     -0.237015  \n",
       "...                                            ...           ...  \n",
       "29359                                    -0.115295     -0.147544  \n",
       "85572                                     1.571499     -2.184042  \n",
       "118251                                   -0.997062      0.569123  \n",
       "95767                                     1.344946     -0.069429  \n",
       "140296                                   -0.997062     -0.568834  \n",
       "\n",
       "[119512 rows x 14 columns]"
      ]
     },
     "execution_count": 33,
     "metadata": {},
     "output_type": "execute_result"
    }
   ],
   "source": [
    "X_train_scaled"
   ]
  },
  {
   "cell_type": "markdown",
   "metadata": {},
   "source": [
    "## (3b) Undersampling"
   ]
  },
  {
   "cell_type": "code",
   "execution_count": 34,
   "metadata": {},
   "outputs": [],
   "source": [
    "from imblearn.under_sampling import RandomUnderSampler\n",
    "from sklearn.linear_model import LogisticRegression\n",
    "from sklearn.model_selection import GridSearchCV\n",
    "from sklearn.tree import DecisionTreeClassifier"
   ]
  },
  {
   "cell_type": "code",
   "execution_count": 35,
   "metadata": {},
   "outputs": [],
   "source": [
    "# index of training observations to be bootstrapped\n",
    "train_idx = X_train_scaled.index"
   ]
  },
  {
   "cell_type": "code",
   "execution_count": 36,
   "metadata": {},
   "outputs": [],
   "source": [
    "from random import sample, seed"
   ]
  },
  {
   "cell_type": "code",
   "execution_count": 37,
   "metadata": {},
   "outputs": [],
   "source": [
    "portion = 1 # portion of bootstrapped data from original observations\n",
    "# 1 because we will further shrink it by undersampling\n",
    "\n",
    "bootstrap_size = int(np.floor(0.3*len(X_train_scaled)))\n",
    "\n",
    "models = {'chosen_var': [],\n",
    "          'best_model': []}\n",
    "\n",
    "for i in range(100):\n",
    "    np.random.seed(i)\n",
    "    seed(i)\n",
    "    sampled = np.random.choice(train_idx.to_list(), size=bootstrap_size)\n",
    "    cols = sample(X_train_scaled.columns.to_list(), 4)\n",
    "    \n",
    "    models['chosen_var'].append(cols)\n",
    "    \n",
    "    # sampled = train_idx.to_list()\n",
    "    X_train_sampled = X_train_scaled.loc[sampled, cols]\n",
    "    y_train_sampled = y_train.loc[sampled]\n",
    "    rus = RandomUnderSampler(sampling_strategy = 0.3,\n",
    "                             random_state = 20230703+i)\n",
    "    X_res, y_res = rus.fit_resample(X_train_sampled, y_train_sampled)\n",
    "    \n",
    "    # compute weights\n",
    "    n_samples = len(y_res)\n",
    "    n_classes = len(y_res.value_counts())\n",
    "    n_samples_j = y_res.value_counts()\n",
    "    class_weight = n_samples / (n_classes * n_samples_j)\n",
    "\n",
    "    tree_best = DecisionTreeClassifier(criterion = 'gini',\n",
    "                                       class_weight = dict(class_weight),\n",
    "                                       random_state = 20230703+i,\n",
    "                                       max_depth = 5)\n",
    "\n",
    "    tree_best.fit(X_res, y_res)\n",
    "    \n",
    "    models['best_model'].append(tree_best)"
   ]
  },
  {
   "cell_type": "code",
   "execution_count": 38,
   "metadata": {},
   "outputs": [],
   "source": [
    "def predict_proba_avg(X, models):\n",
    "    \n",
    "    y_pred_proba_list = []\n",
    "    \n",
    "    for i, model in enumerate(models['best_model']):\n",
    "        y_pred_proba = model.predict_proba(X[models['chosen_var'][i]])\n",
    "        y_pred_proba_list.append(y_pred_proba)\n",
    "        \n",
    "    y_pred_proba_avg = np.mean(y_pred_proba_list, axis = 0)\n",
    "    \n",
    "    return y_pred_proba_avg"
   ]
  },
  {
   "cell_type": "code",
   "execution_count": 39,
   "metadata": {},
   "outputs": [],
   "source": [
    "y_train_pred_proba = predict_proba_avg(X_train_scaled, models)"
   ]
  },
  {
   "cell_type": "code",
   "execution_count": 40,
   "metadata": {},
   "outputs": [
    {
     "data": {
      "text/plain": [
       "array([[0.62886293, 0.37113707],\n",
       "       [0.69245644, 0.30754356],\n",
       "       [0.37363982, 0.62636018],\n",
       "       ...,\n",
       "       [0.77577501, 0.22422499],\n",
       "       [0.44257658, 0.55742342],\n",
       "       [0.78991553, 0.21008447]])"
      ]
     },
     "execution_count": 40,
     "metadata": {},
     "output_type": "execute_result"
    }
   ],
   "source": [
    "y_train_pred_proba"
   ]
  },
  {
   "cell_type": "code",
   "execution_count": 41,
   "metadata": {},
   "outputs": [
    {
     "data": {
      "image/png": "[encoded data removed]",
      "text/plain": [
       "<Figure size 432x288 with 1 Axes>"
      ]
     },
     "metadata": {
      "needs_background": "light"
     },
     "output_type": "display_data"
    }
   ],
   "source": [
    "# ROC Curve\n",
    "from sklearn.metrics import roc_curve\n",
    "from sklearn.metrics import auc\n",
    "\n",
    "fpr_lr, tpr_lr, threshold_lr = roc_curve(y_train,\n",
    "                                         y_train_pred_proba[:, 1])\n",
    "roc_auc_lr = auc(fpr_lr, tpr_lr)\n",
    "\n",
    "plt.title('Receiver Operating Characteristic (Train Data)')\n",
    "plt.plot(fpr_lr, tpr_lr, 'b', label = 'AUC = %0.2f' % roc_auc_lr)\n",
    "plt.legend(loc = 'lower right')\n",
    "plt.plot([0, 1], [0, 1],'r--')\n",
    "plt.xlim([0, 1])\n",
    "plt.ylim([0, 1])\n",
    "plt.ylabel('True Positive Rate')\n",
    "plt.xlabel('False Positive Rate')\n",
    "plt.show()"
   ]
  },
  {
   "cell_type": "markdown",
   "metadata": {},
   "source": [
    "## (3c) Testing the Model"
   ]
  },
  {
   "cell_type": "code",
   "execution_count": 42,
   "metadata": {},
   "outputs": [],
   "source": [
    "X_test = pd.read_csv(\"X_test.csv\", index_col=0)\n",
    "y_test = pd.read_csv(\"y_test.csv\", index_col=0).squeeze()\n",
    "\n",
    "X_test[\"LogMonthlyIncome\"] = np.log(X_test[\"MonthlyIncome\"]+1)\n",
    "\n",
    "X_test[\"LogLogRevolvingUtilizationOfUnsecuredLines\"] = np.log(np.log(X_test[\"RevolvingUtilizationOfUnsecuredLines\"]+1)+1)\n",
    "\n",
    "X_test[\"LogDebtRatio\"] = np.log(X_test[\"DebtRatio\"]+1e-05)\n",
    "\n",
    "X_test_scaled = scaler_transform(data = X_test,\n",
    "                                 scaler = scaler)\n",
    "\n",
    "y_test_pred_proba = predict_proba_avg(X_test_scaled, models)"
   ]
  },
  {
   "cell_type": "code",
   "execution_count": 43,
   "metadata": {},
   "outputs": [
    {
     "data": {
      "image/png": "[encoded data removed]",
      "text/plain": [
       "<Figure size 432x288 with 1 Axes>"
      ]
     },
     "metadata": {
      "needs_background": "light"
     },
     "output_type": "display_data"
    }
   ],
   "source": [
    "fpr_lr, tpr_lr, threshold_lr = roc_curve(y_test,\n",
    "                                         y_test_pred_proba[:, 1])\n",
    "roc_auc_lr = auc(fpr_lr, tpr_lr)\n",
    "\n",
    "plt.title('Receiver Operating Characteristic (Test Data)')\n",
    "plt.plot(fpr_lr, tpr_lr, 'b', label = 'AUC = %0.2f' % roc_auc_lr)\n",
    "plt.legend(loc = 'lower right')\n",
    "plt.plot([0, 1], [0, 1],'r--')\n",
    "plt.xlim([0, 1])\n",
    "plt.ylim([0, 1])\n",
    "plt.ylabel('True Positive Rate')\n",
    "plt.xlabel('False Positive Rate')\n",
    "plt.show()"
   ]
  },
  {
   "cell_type": "code",
   "execution_count": 64,
   "metadata": {},
   "outputs": [],
   "source": [
    "# predict the class on test data\n",
    "\n",
    "y_pred_test = (y_test_pred_proba[:,1] >= 0.5)"
   ]
  },
  {
   "cell_type": "code",
   "execution_count": 65,
   "metadata": {},
   "outputs": [
    {
     "name": "stdout",
     "output_type": "stream",
     "text": [
      "              precision    recall  f1-score   support\n",
      "\n",
      "    Approved       0.98      0.80      0.88     27877\n",
      "    Rejected       0.22      0.77      0.34      2002\n",
      "\n",
      "    accuracy                           0.80     29879\n",
      "   macro avg       0.60      0.78      0.61     29879\n",
      "weighted avg       0.93      0.80      0.84     29879\n",
      "\n"
     ]
    }
   ],
   "source": [
    "# Classification report of test data\n",
    "\n",
    "from sklearn.metrics import classification_report\n",
    "\n",
    "print(classification_report(y_true = y_test,\n",
    "                            y_pred = y_pred_test,\n",
    "                            target_names = [\"Approved\", \"Rejected\"]))"
   ]
  },
  {
   "cell_type": "code",
   "execution_count": 66,
   "metadata": {},
   "outputs": [
    {
     "data": {
      "text/plain": [
       "0.23775896114327788"
      ]
     },
     "execution_count": 66,
     "metadata": {},
     "output_type": "execute_result"
    }
   ],
   "source": [
    "y_pred_test.mean()"
   ]
  },
  {
   "cell_type": "markdown",
   "metadata": {},
   "source": [
    "## (3d) Validation in Kaggle"
   ]
  },
  {
   "cell_type": "code",
   "execution_count": 46,
   "metadata": {},
   "outputs": [
    {
     "data": {
      "text/html": [
       "<div>\n",
       "<style scoped>\n",
       "    .dataframe tbody tr th:only-of-type {\n",
       "        vertical-align: middle;\n",
       "    }\n",
       "\n",
       "    .dataframe tbody tr th {\n",
       "        vertical-align: top;\n",
       "    }\n",
       "\n",
       "    .dataframe thead th {\n",
       "        text-align: right;\n",
       "    }\n",
       "</style>\n",
       "<table border=\"1\" class=\"dataframe\">\n",
       "  <thead>\n",
       "    <tr style=\"text-align: right;\">\n",
       "      <th></th>\n",
       "      <th>RevolvingUtilizationOfUnsecuredLines</th>\n",
       "      <th>age</th>\n",
       "      <th>NumberOfTime30-59DaysPastDueNotWorse</th>\n",
       "      <th>DebtRatio</th>\n",
       "      <th>MonthlyIncome</th>\n",
       "      <th>NumberOfOpenCreditLinesAndLoans</th>\n",
       "      <th>NumberOfTimes90DaysLate</th>\n",
       "      <th>NumberRealEstateLoansOrLines</th>\n",
       "      <th>NumberOfTime60-89DaysPastDueNotWorse</th>\n",
       "      <th>NumberOfDependents</th>\n",
       "    </tr>\n",
       "  </thead>\n",
       "  <tbody>\n",
       "    <tr>\n",
       "      <th>0</th>\n",
       "      <td>0.885519</td>\n",
       "      <td>43</td>\n",
       "      <td>0</td>\n",
       "      <td>0.177513</td>\n",
       "      <td>5700.0</td>\n",
       "      <td>4</td>\n",
       "      <td>0</td>\n",
       "      <td>0</td>\n",
       "      <td>0</td>\n",
       "      <td>0.0</td>\n",
       "    </tr>\n",
       "    <tr>\n",
       "      <th>1</th>\n",
       "      <td>0.463295</td>\n",
       "      <td>57</td>\n",
       "      <td>0</td>\n",
       "      <td>0.527237</td>\n",
       "      <td>9141.0</td>\n",
       "      <td>15</td>\n",
       "      <td>0</td>\n",
       "      <td>4</td>\n",
       "      <td>0</td>\n",
       "      <td>2.0</td>\n",
       "    </tr>\n",
       "    <tr>\n",
       "      <th>2</th>\n",
       "      <td>0.043275</td>\n",
       "      <td>59</td>\n",
       "      <td>0</td>\n",
       "      <td>0.687648</td>\n",
       "      <td>5083.0</td>\n",
       "      <td>12</td>\n",
       "      <td>0</td>\n",
       "      <td>1</td>\n",
       "      <td>0</td>\n",
       "      <td>2.0</td>\n",
       "    </tr>\n",
       "    <tr>\n",
       "      <th>3</th>\n",
       "      <td>0.280308</td>\n",
       "      <td>38</td>\n",
       "      <td>1</td>\n",
       "      <td>0.925961</td>\n",
       "      <td>3200.0</td>\n",
       "      <td>7</td>\n",
       "      <td>0</td>\n",
       "      <td>2</td>\n",
       "      <td>0</td>\n",
       "      <td>0.0</td>\n",
       "    </tr>\n",
       "    <tr>\n",
       "      <th>4</th>\n",
       "      <td>1.000000</td>\n",
       "      <td>27</td>\n",
       "      <td>0</td>\n",
       "      <td>0.019917</td>\n",
       "      <td>3865.0</td>\n",
       "      <td>4</td>\n",
       "      <td>0</td>\n",
       "      <td>0</td>\n",
       "      <td>0</td>\n",
       "      <td>1.0</td>\n",
       "    </tr>\n",
       "  </tbody>\n",
       "</table>\n",
       "</div>"
      ],
      "text/plain": [
       "   RevolvingUtilizationOfUnsecuredLines  age  \\\n",
       "0                              0.885519   43   \n",
       "1                              0.463295   57   \n",
       "2                              0.043275   59   \n",
       "3                              0.280308   38   \n",
       "4                              1.000000   27   \n",
       "\n",
       "   NumberOfTime30-59DaysPastDueNotWorse  DebtRatio  MonthlyIncome  \\\n",
       "0                                     0   0.177513         5700.0   \n",
       "1                                     0   0.527237         9141.0   \n",
       "2                                     0   0.687648         5083.0   \n",
       "3                                     1   0.925961         3200.0   \n",
       "4                                     0   0.019917         3865.0   \n",
       "\n",
       "   NumberOfOpenCreditLinesAndLoans  NumberOfTimes90DaysLate  \\\n",
       "0                                4                        0   \n",
       "1                               15                        0   \n",
       "2                               12                        0   \n",
       "3                                7                        0   \n",
       "4                                4                        0   \n",
       "\n",
       "   NumberRealEstateLoansOrLines  NumberOfTime60-89DaysPastDueNotWorse  \\\n",
       "0                             0                                     0   \n",
       "1                             4                                     0   \n",
       "2                             1                                     0   \n",
       "3                             2                                     0   \n",
       "4                             0                                     0   \n",
       "\n",
       "   NumberOfDependents  \n",
       "0                 0.0  \n",
       "1                 2.0  \n",
       "2                 2.0  \n",
       "3                 0.0  \n",
       "4                 1.0  "
      ]
     },
     "execution_count": 46,
     "metadata": {},
     "output_type": "execute_result"
    }
   ],
   "source": [
    "X_validation = pd.read_csv(\"cs-test.csv\")\n",
    "X_validation.drop(columns=[\"Unnamed: 0\", \"SeriousDlqin2yrs\"], \n",
    "                  inplace=True)\n",
    "X_validation.head()"
   ]
  },
  {
   "cell_type": "code",
   "execution_count": 47,
   "metadata": {},
   "outputs": [],
   "source": [
    "null_income = X_validation[\"MonthlyIncome\"].isna()\n",
    "X_validation[\"TypeCustomer\"] = np.where(null_income, 1, 0)\n",
    "# 1 is Business\n",
    "# 0 is Personal\n",
    "X_validation[\"MonthlyIncome\"] = X_validation[\"MonthlyIncome\"].fillna(0) # fill 0 income for Business\n",
    "\n",
    "X_validation[\"NumberOfDependents\"] = X_validation[\"NumberOfDependents\"].fillna(0) # impute missing values"
   ]
  },
  {
   "cell_type": "code",
   "execution_count": 48,
   "metadata": {},
   "outputs": [
    {
     "name": "stdout",
     "output_type": "stream",
     "text": [
      "<class 'pandas.core.frame.DataFrame'>\n",
      "RangeIndex: 101503 entries, 0 to 101502\n",
      "Data columns (total 11 columns):\n",
      " #   Column                                Non-Null Count   Dtype  \n",
      "---  ------                                --------------   -----  \n",
      " 0   RevolvingUtilizationOfUnsecuredLines  101503 non-null  float64\n",
      " 1   age                                   101503 non-null  int64  \n",
      " 2   NumberOfTime30-59DaysPastDueNotWorse  101503 non-null  int64  \n",
      " 3   DebtRatio                             101503 non-null  float64\n",
      " 4   MonthlyIncome                         101503 non-null  float64\n",
      " 5   NumberOfOpenCreditLinesAndLoans       101503 non-null  int64  \n",
      " 6   NumberOfTimes90DaysLate               101503 non-null  int64  \n",
      " 7   NumberRealEstateLoansOrLines          101503 non-null  int64  \n",
      " 8   NumberOfTime60-89DaysPastDueNotWorse  101503 non-null  int64  \n",
      " 9   NumberOfDependents                    101503 non-null  float64\n",
      " 10  TypeCustomer                          101503 non-null  int32  \n",
      "dtypes: float64(4), int32(1), int64(6)\n",
      "memory usage: 8.1 MB\n"
     ]
    }
   ],
   "source": [
    "X_validation.info()"
   ]
  },
  {
   "cell_type": "code",
   "execution_count": 49,
   "metadata": {},
   "outputs": [],
   "source": [
    "X_validation[\"LogMonthlyIncome\"] = np.log(X_validation[\"MonthlyIncome\"]+1)\n",
    "\n",
    "X_validation[\"LogLogRevolvingUtilizationOfUnsecuredLines\"] = np.log(np.log(X_validation[\"RevolvingUtilizationOfUnsecuredLines\"]+1)+1)\n",
    "\n",
    "X_validation[\"LogDebtRatio\"] = np.log(X_validation[\"DebtRatio\"]+1e-05)\n",
    "\n",
    "X_validation_scaled = scaler_transform(data = X_validation, scaler = scaler)\n",
    "\n",
    "y_validation_pred_proba = predict_proba_avg(X_validation_scaled, models)[:,1]"
   ]
  },
  {
   "cell_type": "code",
   "execution_count": 50,
   "metadata": {},
   "outputs": [
    {
     "data": {
      "text/plain": [
       "array([0.55493241, 0.39460898, 0.3472302 , ..., 0.2340243 , 0.47421009,\n",
       "       0.44401299])"
      ]
     },
     "execution_count": 50,
     "metadata": {},
     "output_type": "execute_result"
    }
   ],
   "source": [
    "y_validation_pred_proba"
   ]
  },
  {
   "cell_type": "code",
   "execution_count": 51,
   "metadata": {},
   "outputs": [],
   "source": [
    "validation_proba = pd.Series(y_validation_pred_proba)\n",
    "validation_proba.index = pd.RangeIndex(start=1, stop=101504, step=1)"
   ]
  },
  {
   "cell_type": "code",
   "execution_count": 59,
   "metadata": {},
   "outputs": [],
   "source": [
    "validation_proba.to_csv(\"validation_random_forest.csv\", index_label='Id', header=['Probability'])"
   ]
  },
  {
   "cell_type": "code",
   "execution_count": 53,
   "metadata": {},
   "outputs": [
    {
     "data": {
      "text/plain": [
       "1         0.554932\n",
       "2         0.394609\n",
       "3         0.347230\n",
       "4         0.513482\n",
       "5         0.589724\n",
       "            ...   \n",
       "101499    0.423321\n",
       "101500    0.721237\n",
       "101501    0.234024\n",
       "101502    0.474210\n",
       "101503    0.444013\n",
       "Length: 101503, dtype: float64"
      ]
     },
     "execution_count": 53,
     "metadata": {},
     "output_type": "execute_result"
    }
   ],
   "source": [
    "validation_proba"
   ]
  },
  {
   "cell_type": "code",
   "execution_count": null,
   "metadata": {},
   "outputs": [],
   "source": []
  }
 ],
 "metadata": {
  "kernelspec": {
   "display_name": "Python 3",
   "language": "python",
   "name": "python3"
  },
  "language_info": {
   "codemirror_mode": {
    "name": "ipython",
    "version": 3
   },
   "file_extension": ".py",
   "mimetype": "text/x-python",
   "name": "python",
   "nbconvert_exporter": "python",
   "pygments_lexer": "ipython3",
   "version": "3.8.5"
  }
 },
 "nbformat": 4,
 "nbformat_minor": 4
}
